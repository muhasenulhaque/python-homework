{
 "cells": [
  {
   "cell_type": "code",
   "execution_count": 1,
   "metadata": {},
   "outputs": [
    {
     "name": "stdout",
     "output_type": "stream",
     "text": [
      "Financial Analysis\n",
      "----------------------------------\n"
     ]
    },
    {
     "ename": "ModuleNotFoundError",
     "evalue": "No module named 'pandas'",
     "output_type": "error",
     "traceback": [
      "\u001b[1;31m---------------------------------------------------------------------------\u001b[0m",
      "\u001b[1;31mModuleNotFoundError\u001b[0m                       Traceback (most recent call last)",
      "Cell \u001b[1;32mIn [1], line 7\u001b[0m\n\u001b[0;32m      5\u001b[0m \u001b[38;5;66;03m#importing add on from libraries  \u001b[39;00m\n\u001b[0;32m      6\u001b[0m \u001b[38;5;28;01mfrom\u001b[39;00m \u001b[38;5;21;01mpathlib\u001b[39;00m \u001b[38;5;28;01mimport\u001b[39;00m Path\n\u001b[1;32m----> 7\u001b[0m \u001b[38;5;28;01mimport\u001b[39;00m \u001b[38;5;21;01mpandas\u001b[39;00m \u001b[38;5;28;01mas\u001b[39;00m \u001b[38;5;21;01mpd\u001b[39;00m\n\u001b[0;32m      8\u001b[0m \u001b[38;5;28;01mimport\u001b[39;00m \u001b[38;5;21;01mcsv\u001b[39;00m\n\u001b[0;32m      9\u001b[0m filepath \u001b[38;5;241m=\u001b[39m (\u001b[38;5;124mr\u001b[39m\u001b[38;5;124m\"\u001b[39m\u001b[38;5;124mC:\u001b[39m\u001b[38;5;124m\\\u001b[39m\u001b[38;5;124mUsers\u001b[39m\u001b[38;5;124m\\\u001b[39m\u001b[38;5;124mmuhas\u001b[39m\u001b[38;5;124m\\\u001b[39m\u001b[38;5;124mbudget_data.csv\u001b[39m\u001b[38;5;124m\"\u001b[39m)\n",
      "\u001b[1;31mModuleNotFoundError\u001b[0m: No module named 'pandas'"
     ]
    }
   ],
   "source": [
    "# Printing the Titles for the Assignment\n",
    "print(\"Financial Analysis\")\n",
    "print(\"----------------------------------\")\n",
    "\n",
    "#importing add on from libraries  \n",
    "from pathlib import Path\n",
    "import pandas as pd\n",
    "import csv\n",
    "filepath = (r\"C:\\Users\\muhas\\Downloads\\python-homework\\PyBank\\budget_data.csv\")\n",
    "data = pd.read_csv(filepath)\n",
    "#counting number of months and pringint\n",
    "len(data)\n",
    "print(f\"Total Months : {len(data)}\")\n",
    "\n",
    "# Finding pnl Total and printing it \n",
    "pnl_total = data['Profit/Losses'].sum()\n",
    "print(f\"Total Porfit/Losses: {pnl_total}\")\n",
    "\n",
    "#creasting dictionary for the differences\n",
    "pnl_diff = {}\n",
    "with open(filepath, 'r') as csvfile:\n",
    "    csvreader = csv.reader(csvfile, delimiter = ',')\n",
    "    header = next(csvreader)\n",
    "    first_row = next(csvreader)\n",
    "    prev_pnl = int(first_row[1])\n",
    "    for row in csvreader:\n",
    "        diff = int(row[1]) - prev_pnl\n",
    "        prev_pnl = int(row[1])\n",
    "        pnl_diff[row[0]] = diff\n",
    "\n",
    "        \n",
    "#finding average changes of values and printing it         \n",
    "average =  sum(pnl_diff.values())/len(pnl_diff.values())\n",
    "print(f\"Average Change: ${average}\")\n",
    "\n",
    "#identifying the max and min changes \n",
    "Greatest_Increase = max(pnl_diff.values())\n",
    "Greatest_Decrease = min(pnl_diff.values())\n",
    "\n",
    "# Finding the Key in dictionary for highest increase and decrease \n",
    "increase_date = (list(pnl_diff.keys())\n",
    "      [list(pnl_diff.values()).index(Greatest_Increase)])\n",
    "decrease_date = (list(pnl_diff.keys())\n",
    "      [list(pnl_diff.values()).index(Greatest_Decrease)])\n",
    "\n",
    "#printing the greatest increase and decrease along with the date\n",
    "print(f\"Greatest Increase in profit in: {increase_date} : ${Greatest_Increase}\")\n",
    "print(f\"Greatest Decrease in profit in: {decrease_date}: ${Greatest_Decrease}\")\n"
   ]
  }
 ],
 "metadata": {
  "kernelspec": {
   "display_name": "Python 3.10.6 64-bit",
   "language": "python",
   "name": "python3"
  },
  "language_info": {
   "codemirror_mode": {
    "name": "ipython",
    "version": 3
   },
   "file_extension": ".py",
   "mimetype": "text/x-python",
   "name": "python",
   "nbconvert_exporter": "python",
   "pygments_lexer": "ipython3",
   "version": "3.10.6"
  },
  "orig_nbformat": 4,
  "vscode": {
   "interpreter": {
    "hash": "d5fd045afeda6b1547a47a101b60fad532ea05f8c793eed45a5f7586ca9d478f"
   }
  }
 },
 "nbformat": 4,
 "nbformat_minor": 2
}
