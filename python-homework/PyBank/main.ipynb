{
 "cells": [
  {
   "cell_type": "code",
   "execution_count": 46,
   "id": "4e47c352-715d-4a9c-bbc4-e90d02cc293e",
   "metadata": {},
   "outputs": [
    {
     "name": "stdout",
     "output_type": "stream",
     "text": [
      "Financial Analysis\n",
      "----------------------------------\n",
      "Total Months : 86\n",
      "Total Porfit/Losses: 38382578\n",
      "Average Change: $-2315.1176470588234\n",
      "Greatest Increase in profit in: Feb-2012 : $1926159\n",
      "Greatest Decrease in profit in: Sep-2013: $-2196167\n"
     ]
    }
   ],
   "source": [
    "# Printing the Titles for the Assignment\n",
    "print(\"Financial Analysis\")\n",
    "print(\"----------------------------------\")\n",
    "\n",
    "#importing add on from libraries  \n",
    "from pathlib import Path\n",
    "import pandas as pd\n",
    "import csv\n",
    "filepath = ('./budget_data.csv')\n",
    "data = pd.read_csv(filepath)\n",
    "#counting number of months and pringint\n",
    "len(data)\n",
    "print(f\"Total Months : {len(data)}\")\n",
    "\n",
    "# Finding pnl Total and printing it \n",
    "pnl_total = data['Profit/Losses'].sum()\n",
    "print(f\"Total Porfit/Losses: {pnl_total}\")\n",
    "\n",
    "#creasting dictionary for the differences\n",
    "pnl_diff = {}\n",
    "with open(filepath, 'r') as csvfile:\n",
    "    csvreader = csv.reader(csvfile, delimiter = ',')\n",
    "    header = next(csvreader)\n",
    "    first_row = next(csvreader)\n",
    "    prev_pnl = int(first_row[1])\n",
    "    for row in csvreader:\n",
    "        diff = int(row[1]) - prev_pnl\n",
    "        prev_pnl = int(row[1])\n",
    "        pnl_diff[row[0]] = diff\n",
    "\n",
    "        \n",
    "#finding average changes of values and printing it         \n",
    "average =  sum(pnl_diff.values())/len(pnl_diff.values())\n",
    "print(f\"Average Change: ${average}\")\n",
    "\n",
    "#identifying the max and min changes \n",
    "Greatest_Increase = max(pnl_diff.values())\n",
    "Greatest_Decrease = min(pnl_diff.values())\n",
    "\n",
    "# Finding the Key in dictionary for highest increase and decrease \n",
    "increase_date = (list(pnl_diff.keys())\n",
    "      [list(pnl_diff.values()).index(Greatest_Increase)])\n",
    "decrease_date = (list(pnl_diff.keys())\n",
    "      [list(pnl_diff.values()).index(Greatest_Decrease)])\n",
    "\n",
    "#printing the greatest increase and decrease along with the date\n",
    "print(f\"Greatest Increase in profit in: {increase_date} : ${Greatest_Increase}\")\n",
    "print(f\"Greatest Decrease in profit in: {decrease_date}: ${Greatest_Decrease}\")\n",
    "\n",
    "#exporting output to a text file in defined location\n",
    "file_path_output = ('./txt_file.txt')\n",
    "with open(file_path_output, \"w\") as txt_file:\n",
    "    txt_file.write(f\"Financial Analysis\\n\")\n",
    "    txt_file.write(f\"----------------------------\\n\")\n",
    "    txt_file.write(f\"Total Months: {len(data)}\\n\")\n",
    "    txt_file.write(f\"Total: ${pnl_total}\\n\")\n",
    "    txt_file.write(f\"Average  Change: ${average}\\n\")\n",
    "    txt_file.write(f\"Greatest Increase in Profits: {increase_date} : {Greatest_Increase})\\n\")\n",
    "    txt_file.write(f\"Greatest Decrease in Profits: {decrease_date} : {Greatest_Decrease})\\n\") "
   ]
  },
  {
   "cell_type": "code",
   "execution_count": null,
   "id": "ec591a71-a602-4779-b4c3-56986dc73dc7",
   "metadata": {},
   "outputs": [],
   "source": []
  }
 ],
 "metadata": {
  "kernelspec": {
   "display_name": "Python 3 (ipykernel)",
   "language": "python",
   "name": "python3"
  },
  "language_info": {
   "codemirror_mode": {
    "name": "ipython",
    "version": 3
   },
   "file_extension": ".py",
   "mimetype": "text/x-python",
   "name": "python",
   "nbconvert_exporter": "python",
   "pygments_lexer": "ipython3",
   "version": "3.9.12"
  }
 },
 "nbformat": 4,
 "nbformat_minor": 5
}
